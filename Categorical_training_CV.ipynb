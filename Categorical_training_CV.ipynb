{
 "cells": [
  {
   "attachments": {},
   "cell_type": "markdown",
   "id": "96af54af",
   "metadata": {},
   "source": [
    "This is a training of the model on both categorical and numerical data. I find the best possible value of alpha by computing a 5-fold Cross Validation for every possible value of alpha in range(0,40000,1000) and selecting the one that is the closest to maximizing the R2 score and minimizing the RMSE score computed by each cycle of 5_fold CV"
   ]
  },
  {
   "cell_type": "code",
   "execution_count": 1,
   "id": "53e9a895",
   "metadata": {},
   "outputs": [],
   "source": [
    "import numpy as np\n",
    "import matplotlib\n",
    "import matplotlib.pyplot as plt\n",
    "%matplotlib inline\n",
    "import pandas as pd\n",
    "from sklearn.model_selection import train_test_split, KFold\n",
    "from category_encoders import TargetEncoder\n",
    "from sklearn.linear_model import Ridge"
   ]
  },
  {
   "cell_type": "code",
   "execution_count": 2,
   "id": "5a07fa36",
   "metadata": {},
   "outputs": [],
   "source": [
    "from sklearn.metrics import mean_squared_error, r2_score\n",
    "import seaborn as sns"
   ]
  },
  {
   "cell_type": "code",
   "execution_count": 3,
   "id": "6eb65031",
   "metadata": {},
   "outputs": [],
   "source": [
    "class My_Ridge :\n",
    "    def __init__(self,alpha) :\n",
    "        self.alpha = alpha\n",
    "        self.coefficients = None\n",
    "\n",
    "    def fit(self, X, y):\n",
    "        if \"intercept\" not in X:\n",
    "            X.insert(0,\"intercept\",1, True)\n",
    "    \n",
    "        n_feat= X.shape[1]\n",
    "        I=np.eye(n_feat)\n",
    "        I[0][0]=0\n",
    "    \n",
    "        A = np.dot(X.T, X) + self.alpha * I\n",
    "        b = np.dot(X.T, y)\n",
    "        self.coefficients = np.dot(np.linalg.inv(A),b)\n",
    "\n",
    "    def predict(self, X):\n",
    "        if \"intercept\" not in X:\n",
    "            X.insert(0,\"intercept\",1, True)\n",
    "        return np.dot(X,self.coefficients)\n",
    "    \n",
    "    def r2score(self,Y_pred, Y_act):\n",
    "        return r2_score(Y_act,Y_pred)\n",
    "    \n",
    "    def mse_score(self,Y_pred, Y_act):\n",
    "        return mean_squared_error(Y_act,Y_pred,squared=False)"
   ]
  },
  {
   "cell_type": "code",
   "execution_count": 4,
   "id": "26a92552",
   "metadata": {},
   "outputs": [],
   "source": [
    "spotify = pd.read_csv(\"dataset.csv\")"
   ]
  },
  {
   "cell_type": "code",
   "execution_count": 5,
   "id": "97092e0e",
   "metadata": {},
   "outputs": [],
   "source": [
    "spotify=spotify.drop(columns = \"Unnamed: 0\")\n",
    "spotify=spotify.drop(columns = \"album_name\")\n",
    "spotify=spotify.drop(columns = \"track_name\")\n",
    "spotify=spotify.drop(columns = \"track_id\")\n",
    "cor = spotify.corr()"
   ]
  },
  {
   "cell_type": "code",
   "execution_count": 6,
   "id": "d206a9dc",
   "metadata": {},
   "outputs": [
    {
     "data": {
      "text/plain": [
       "popularity          1.000000\n",
       "duration_ms        -0.007101\n",
       "explicit            0.044082\n",
       "danceability        0.035448\n",
       "energy              0.001056\n",
       "key                -0.003853\n",
       "loudness            0.050423\n",
       "mode               -0.013931\n",
       "speechiness        -0.044927\n",
       "acousticness       -0.025472\n",
       "instrumentalness   -0.095139\n",
       "liveness           -0.005387\n",
       "valence            -0.040534\n",
       "tempo               0.013205\n",
       "time_signature      0.031073\n",
       "Name: popularity, dtype: float64"
      ]
     },
     "execution_count": 6,
     "metadata": {},
     "output_type": "execute_result"
    }
   ],
   "source": [
    "cor[\"popularity\"]"
   ]
  },
  {
   "cell_type": "code",
   "execution_count": 7,
   "id": "19bcdf60",
   "metadata": {
    "scrolled": true
   },
   "outputs": [
    {
     "data": {
      "text/plain": [
       "popularity          1.000000\n",
       "explicit            0.044082\n",
       "danceability        0.035448\n",
       "loudness            0.050423\n",
       "speechiness         0.044927\n",
       "acousticness        0.025472\n",
       "instrumentalness    0.095139\n",
       "valence             0.040534\n",
       "time_signature      0.031073\n",
       "Name: popularity, dtype: float64"
      ]
     },
     "execution_count": 7,
     "metadata": {},
     "output_type": "execute_result"
    }
   ],
   "source": [
    "cor_target= abs(cor[\"popularity\"]) #maintain only the numerical values with correlation with popularity higher of 0.02\n",
    "relevant_feat = cor_target[cor_target > 0.02]\n",
    "relevant_feat"
   ]
  },
  {
   "cell_type": "code",
   "execution_count": 9,
   "id": "539bbed5",
   "metadata": {},
   "outputs": [
    {
     "data": {
      "text/html": [
       "<div>\n",
       "<style scoped>\n",
       "    .dataframe tbody tr th:only-of-type {\n",
       "        vertical-align: middle;\n",
       "    }\n",
       "\n",
       "    .dataframe tbody tr th {\n",
       "        vertical-align: top;\n",
       "    }\n",
       "\n",
       "    .dataframe thead th {\n",
       "        text-align: right;\n",
       "    }\n",
       "</style>\n",
       "<table border=\"1\" class=\"dataframe\">\n",
       "  <thead>\n",
       "    <tr style=\"text-align: right;\">\n",
       "      <th></th>\n",
       "      <th>artists</th>\n",
       "      <th>popularity</th>\n",
       "      <th>explicit</th>\n",
       "      <th>danceability</th>\n",
       "      <th>loudness</th>\n",
       "      <th>speechiness</th>\n",
       "      <th>instrumentalness</th>\n",
       "      <th>valence</th>\n",
       "      <th>time_signature</th>\n",
       "      <th>track_genre</th>\n",
       "    </tr>\n",
       "  </thead>\n",
       "  <tbody>\n",
       "    <tr>\n",
       "      <th>0</th>\n",
       "      <td>Gen Hoshino</td>\n",
       "      <td>73</td>\n",
       "      <td>False</td>\n",
       "      <td>0.676</td>\n",
       "      <td>-6.746</td>\n",
       "      <td>0.1430</td>\n",
       "      <td>0.000001</td>\n",
       "      <td>0.7150</td>\n",
       "      <td>4</td>\n",
       "      <td>acoustic</td>\n",
       "    </tr>\n",
       "    <tr>\n",
       "      <th>1</th>\n",
       "      <td>Ben Woodward</td>\n",
       "      <td>55</td>\n",
       "      <td>False</td>\n",
       "      <td>0.420</td>\n",
       "      <td>-17.235</td>\n",
       "      <td>0.0763</td>\n",
       "      <td>0.000006</td>\n",
       "      <td>0.2670</td>\n",
       "      <td>4</td>\n",
       "      <td>acoustic</td>\n",
       "    </tr>\n",
       "    <tr>\n",
       "      <th>2</th>\n",
       "      <td>Ingrid Michaelson;ZAYN</td>\n",
       "      <td>57</td>\n",
       "      <td>False</td>\n",
       "      <td>0.438</td>\n",
       "      <td>-9.734</td>\n",
       "      <td>0.0557</td>\n",
       "      <td>0.000000</td>\n",
       "      <td>0.1200</td>\n",
       "      <td>4</td>\n",
       "      <td>acoustic</td>\n",
       "    </tr>\n",
       "    <tr>\n",
       "      <th>3</th>\n",
       "      <td>Kina Grannis</td>\n",
       "      <td>71</td>\n",
       "      <td>False</td>\n",
       "      <td>0.266</td>\n",
       "      <td>-18.515</td>\n",
       "      <td>0.0363</td>\n",
       "      <td>0.000071</td>\n",
       "      <td>0.1430</td>\n",
       "      <td>3</td>\n",
       "      <td>acoustic</td>\n",
       "    </tr>\n",
       "    <tr>\n",
       "      <th>4</th>\n",
       "      <td>Chord Overstreet</td>\n",
       "      <td>82</td>\n",
       "      <td>False</td>\n",
       "      <td>0.618</td>\n",
       "      <td>-9.681</td>\n",
       "      <td>0.0526</td>\n",
       "      <td>0.000000</td>\n",
       "      <td>0.1670</td>\n",
       "      <td>4</td>\n",
       "      <td>acoustic</td>\n",
       "    </tr>\n",
       "    <tr>\n",
       "      <th>...</th>\n",
       "      <td>...</td>\n",
       "      <td>...</td>\n",
       "      <td>...</td>\n",
       "      <td>...</td>\n",
       "      <td>...</td>\n",
       "      <td>...</td>\n",
       "      <td>...</td>\n",
       "      <td>...</td>\n",
       "      <td>...</td>\n",
       "      <td>...</td>\n",
       "    </tr>\n",
       "    <tr>\n",
       "      <th>113995</th>\n",
       "      <td>Rainy Lullaby</td>\n",
       "      <td>21</td>\n",
       "      <td>False</td>\n",
       "      <td>0.172</td>\n",
       "      <td>-16.393</td>\n",
       "      <td>0.0422</td>\n",
       "      <td>0.928000</td>\n",
       "      <td>0.0339</td>\n",
       "      <td>5</td>\n",
       "      <td>world-music</td>\n",
       "    </tr>\n",
       "    <tr>\n",
       "      <th>113996</th>\n",
       "      <td>Rainy Lullaby</td>\n",
       "      <td>22</td>\n",
       "      <td>False</td>\n",
       "      <td>0.174</td>\n",
       "      <td>-18.318</td>\n",
       "      <td>0.0401</td>\n",
       "      <td>0.976000</td>\n",
       "      <td>0.0350</td>\n",
       "      <td>4</td>\n",
       "      <td>world-music</td>\n",
       "    </tr>\n",
       "    <tr>\n",
       "      <th>113997</th>\n",
       "      <td>Cesária Evora</td>\n",
       "      <td>22</td>\n",
       "      <td>False</td>\n",
       "      <td>0.629</td>\n",
       "      <td>-10.895</td>\n",
       "      <td>0.0420</td>\n",
       "      <td>0.000000</td>\n",
       "      <td>0.7430</td>\n",
       "      <td>4</td>\n",
       "      <td>world-music</td>\n",
       "    </tr>\n",
       "    <tr>\n",
       "      <th>113998</th>\n",
       "      <td>Michael W. Smith</td>\n",
       "      <td>41</td>\n",
       "      <td>False</td>\n",
       "      <td>0.587</td>\n",
       "      <td>-10.889</td>\n",
       "      <td>0.0297</td>\n",
       "      <td>0.000000</td>\n",
       "      <td>0.4130</td>\n",
       "      <td>4</td>\n",
       "      <td>world-music</td>\n",
       "    </tr>\n",
       "    <tr>\n",
       "      <th>113999</th>\n",
       "      <td>Cesária Evora</td>\n",
       "      <td>22</td>\n",
       "      <td>False</td>\n",
       "      <td>0.526</td>\n",
       "      <td>-10.204</td>\n",
       "      <td>0.0725</td>\n",
       "      <td>0.000000</td>\n",
       "      <td>0.7080</td>\n",
       "      <td>4</td>\n",
       "      <td>world-music</td>\n",
       "    </tr>\n",
       "  </tbody>\n",
       "</table>\n",
       "<p>114000 rows × 10 columns</p>\n",
       "</div>"
      ],
      "text/plain": [
       "                       artists  popularity  explicit  danceability  loudness  \\\n",
       "0                  Gen Hoshino          73     False         0.676    -6.746   \n",
       "1                 Ben Woodward          55     False         0.420   -17.235   \n",
       "2       Ingrid Michaelson;ZAYN          57     False         0.438    -9.734   \n",
       "3                 Kina Grannis          71     False         0.266   -18.515   \n",
       "4             Chord Overstreet          82     False         0.618    -9.681   \n",
       "...                        ...         ...       ...           ...       ...   \n",
       "113995           Rainy Lullaby          21     False         0.172   -16.393   \n",
       "113996           Rainy Lullaby          22     False         0.174   -18.318   \n",
       "113997           Cesária Evora          22     False         0.629   -10.895   \n",
       "113998        Michael W. Smith          41     False         0.587   -10.889   \n",
       "113999           Cesária Evora          22     False         0.526   -10.204   \n",
       "\n",
       "        speechiness  instrumentalness  valence  time_signature  track_genre  \n",
       "0            0.1430          0.000001   0.7150               4     acoustic  \n",
       "1            0.0763          0.000006   0.2670               4     acoustic  \n",
       "2            0.0557          0.000000   0.1200               4     acoustic  \n",
       "3            0.0363          0.000071   0.1430               3     acoustic  \n",
       "4            0.0526          0.000000   0.1670               4     acoustic  \n",
       "...             ...               ...      ...             ...          ...  \n",
       "113995       0.0422          0.928000   0.0339               5  world-music  \n",
       "113996       0.0401          0.976000   0.0350               4  world-music  \n",
       "113997       0.0420          0.000000   0.7430               4  world-music  \n",
       "113998       0.0297          0.000000   0.4130               4  world-music  \n",
       "113999       0.0725          0.000000   0.7080               4  world-music  \n",
       "\n",
       "[114000 rows x 10 columns]"
      ]
     },
     "execution_count": 9,
     "metadata": {},
     "output_type": "execute_result"
    }
   ],
   "source": [
    "spotify=spotify.drop(columns = \"acousticness\")\n",
    "spotify=spotify.drop(columns = \"tempo\")\n",
    "spotify=spotify.drop(columns = \"duration_ms\")\n",
    "spotify=spotify.drop(columns = \"energy\")\n",
    "spotify=spotify.drop(columns = \"key\")\n",
    "spotify=spotify.drop(columns = \"mode\")\n",
    "spotify=spotify.drop(columns = \"liveness\")\n",
    "spotify"
   ]
  },
  {
   "cell_type": "code",
   "execution_count": 10,
   "id": "99d4bcf5",
   "metadata": {},
   "outputs": [],
   "source": [
    "encoder = TargetEncoder(smoothing=300)\n",
    "cat_cols =['artists','explicit','track_genre']"
   ]
  },
  {
   "cell_type": "code",
   "execution_count": 11,
   "id": "784e4c2a",
   "metadata": {},
   "outputs": [],
   "source": [
    "k_Fold=KFold(n_splits=5,shuffle=True)"
   ]
  },
  {
   "cell_type": "code",
   "execution_count": 12,
   "id": "9fa71006",
   "metadata": {},
   "outputs": [],
   "source": [
    "av=np.eye(40,1)\n",
    "avr=np.eye(40,1)     "
   ]
  },
  {
   "cell_type": "code",
   "execution_count": null,
   "id": "e4912fbd",
   "metadata": {
    "collapsed": true
   },
   "outputs": [],
   "source": [
    "i=0\n",
    "for alphas in range(0,40000,1000): #I cycle on the alpha to find the one that gives us the best scores\n",
    "    average_rscore=0.0\n",
    "    average_msescore=0.0\n",
    "\n",
    "    ridge = My_Ridge(alpha=alphas)\n",
    "    for train_index, test_index in k_Fold.split(spotify): #cross validation code\n",
    "        train,test = (spotify.T[train_index]).T, (spotify.T[test_index]).T\n",
    "        \n",
    "        train[cat_cols] = encoder.fit_transform(train[cat_cols], train[\"popularity\"]) #encoding of the categorical features\n",
    "        test[cat_cols] = encoder.transform(test[cat_cols])\n",
    "        train=train.dropna(axis=0)\n",
    "        test=test.dropna(axis=0)\n",
    "    \n",
    "        y = train[\"popularity\"].copy()\n",
    "        yt=(np.array([y])).T\n",
    "        yt=yt.astype(np.int64)\n",
    "    \n",
    "        X = (train.drop(columns= 'popularity'))\n",
    "        X_test=(test.drop(columns= 'popularity'))\n",
    "    \n",
    "        x_mean=X.mean() #normalizing training and testing data\n",
    "        x_std=X.std()\n",
    "        X = (X - x_mean) / x_std\n",
    "        X_test=(X_test-x_mean)/x_std\n",
    "        X=X.astype(np.float64)\n",
    "        X_test=X_test.astype(np.float64)\n",
    "        \n",
    "        ridge.fit(X,yt)\n",
    "        predictions=ridge.predict(X_test)\n",
    "        \n",
    "        expect= np.array(test[\"popularity\"]) #actual training labels\n",
    "        expect = np.reshape(expect,(-1,1))\n",
    "    \n",
    "        rscore=ridge.r2score(predictions,expect) #r2 score of the prediction\n",
    "        msescore=ridge.mse_score(predictions,expect) #rmse score of the prediction\n",
    "        average_rscore += rscore\n",
    "        average_msescore += msescore\n",
    "    av[i]=average_msescore/5 #computing the average of the r2 and rmse scores over the 5 folds\n",
    "    avr[i]=average_rscore/5\n",
    "    i=i+1\n",
    "    print(alphas)\n",
    "    print(av[i-1])\n",
    "    print(avr[i-1])"
   ]
  },
  {
   "cell_type": "code",
   "execution_count": 16,
   "id": "66a906f7",
   "metadata": {
    "scrolled": false
   },
   "outputs": [
    {
     "data": {
      "text/plain": [
       "[Text(0.5, 0, 'alpha/1000'), Text(0, 0.5, 'R2'), Text(0.5, 1.0, 'R2 vs alpha')]"
      ]
     },
     "execution_count": 16,
     "metadata": {},
     "output_type": "execute_result"
    },
    {
     "data": {
      "image/png": "[encoded data removed]",
      "text/plain": [
       "<Figure size 640x480 with 1 Axes>"
      ]
     },
     "metadata": {},
     "output_type": "display_data"
    }
   ],
   "source": [
    "ax=plt.subplot()\n",
    "ax.plot(avr)\n",
    "ax.set(xlabel='alpha/1000', ylabel='R2',\n",
    "       title='R2 vs alpha')"
   ]
  },
  {
   "cell_type": "code",
   "execution_count": 15,
   "id": "426dff78",
   "metadata": {},
   "outputs": [
    {
     "data": {
      "text/plain": [
       "[Text(0.5, 0, 'alpha/1000'),\n",
       " Text(0, 0.5, 'RMSE'),\n",
       " Text(0.5, 1.0, 'RMSE vs alpha')]"
      ]
     },
     "execution_count": 15,
     "metadata": {},
     "output_type": "execute_result"
    },
    {
     "data": {
      "image/png": "[encoded data removed]",
      "text/plain": [
       "<Figure size 640x480 with 1 Axes>"
      ]
     },
     "metadata": {},
     "output_type": "display_data"
    }
   ],
   "source": [
    "ax=plt.subplot()\n",
    "ax.plot(av)\n",
    "ax.set(xlabel='alpha/1000', ylabel='RMSE',\n",
    "       title='RMSE vs alpha')"
   ]
  },
  {
   "cell_type": "code",
   "execution_count": 18,
   "id": "4669e555",
   "metadata": {},
   "outputs": [
    {
     "data": {
      "text/plain": [
       "10000"
      ]
     },
     "execution_count": 18,
     "metadata": {},
     "output_type": "execute_result"
    }
   ],
   "source": [
    "best_alpha= np.argmin(av)*1000\n",
    "best_alpha"
   ]
  }
 ],
 "metadata": {
  "kernelspec": {
   "display_name": "Python 3 (ipykernel)",
   "language": "python",
   "name": "python3"
  },
  "language_info": {
   "codemirror_mode": {
    "name": "ipython",
    "version": 3
   },
   "file_extension": ".py",
   "mimetype": "text/x-python",
   "name": "python",
   "nbconvert_exporter": "python",
   "pygments_lexer": "ipython3",
   "version": "3.9.13"
  }
 },
 "nbformat": 4,
 "nbformat_minor": 5
}
